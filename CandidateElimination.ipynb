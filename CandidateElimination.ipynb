{
  "nbformat": 4,
  "nbformat_minor": 0,
  "metadata": {
    "colab": {
      "provenance": [],
      "authorship_tag": "ABX9TyPRBDjxkueVkW9pHW3CzGCW",
      "include_colab_link": true
    },
    "kernelspec": {
      "name": "python3",
      "display_name": "Python 3"
    },
    "language_info": {
      "name": "python"
    }
  },
  "cells": [
    {
      "cell_type": "markdown",
      "metadata": {
        "id": "view-in-github",
        "colab_type": "text"
      },
      "source": [
        "<a href=\"https://colab.research.google.com/github/TRUPTIC01/AIML-Lab-Codes/blob/main/CandidateElimination.ipynb\" target=\"_parent\"><img src=\"https://colab.research.google.com/assets/colab-badge.svg\" alt=\"Open In Colab\"/></a>"
      ]
    },
    {
      "cell_type": "code",
      "execution_count": 12,
      "metadata": {
        "id": "tyc57G4u7ngk",
        "colab": {
          "base_uri": "https://localhost:8080/"
        },
        "outputId": "12228272-27c7-4e24-bf89-087cd2acf77d"
      },
      "outputs": [
        {
          "output_type": "stream",
          "name": "stdout",
          "text": [
            "Final Specific Hypothesis:  ['sunny', 'warm', '?', 'strong', '?', '?']\n",
            "Final General Hypothesis:  [['sunny', '?', '?', '?', '?', '?'], ['?', 'warm', '?', '?', '?', '?']]\n"
          ]
        }
      ],
      "source": [
        "import csv\n",
        "\n",
        "with open(\"ce.csv\") as f:\n",
        "  csv_file = csv.reader(f)\n",
        "  data = list(csv_file)\n",
        "\n",
        "  specific = data[1][:-1]\n",
        "  general = [[\"?\" for _ in range(len(specific))]for _ in range(len(specific))]\n",
        "\n",
        "  for i in data:\n",
        "    if i[-1] == \"yes\":\n",
        "      for j in range(len(specific)):\n",
        "        if i[j] != specific[j]:\n",
        "          general[j][j] = \"?\"\n",
        "          specific[j] =\"?\"\n",
        "    \n",
        "    elif i[-1] == \"no\":\n",
        "      for j in range(len(specific)):\n",
        "        if i[j] != specific[j]:\n",
        "          general[j][j] = specific[j]\n",
        "        else:\n",
        "          general[j][j] = \"?\"\n",
        "      \n",
        "    gh =[]\n",
        "\n",
        "    for i in general:\n",
        "      for j in i:\n",
        "        if j != \"?\":\n",
        "          gh.append(i)\n",
        "          break\n",
        "\n",
        "print(\"Final Specific Hypothesis: \", specific)\n",
        "print(\"Final General Hypothesis: \", gh)\n"
      ]
    }
  ]
}