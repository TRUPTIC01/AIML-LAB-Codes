{
  "nbformat": 4,
  "nbformat_minor": 0,
  "metadata": {
    "colab": {
      "provenance": [],
      "authorship_tag": "ABX9TyMLJES4WJLjblleydtprmhk",
      "include_colab_link": true
    },
    "kernelspec": {
      "name": "python3",
      "display_name": "Python 3"
    },
    "language_info": {
      "name": "python"
    }
  },
  "cells": [
    {
      "cell_type": "markdown",
      "metadata": {
        "id": "view-in-github",
        "colab_type": "text"
      },
      "source": [
        "<a href=\"https://colab.research.google.com/github/TRUPTIC01/AIML-Lab-Codes/blob/main/NaiveBayes.ipynb\" target=\"_parent\"><img src=\"https://colab.research.google.com/assets/colab-badge.svg\" alt=\"Open In Colab\"/></a>"
      ]
    },
    {
      "cell_type": "code",
      "execution_count": 23,
      "metadata": {
        "colab": {
          "base_uri": "https://localhost:8080/"
        },
        "id": "wQCjvy54dEED",
        "outputId": "4338db58-ca4a-4cc8-9e0d-ee0e5df7ac4e"
      },
      "outputs": [
        {
          "output_type": "stream",
          "name": "stdout",
          "text": [
            "Accuracy is :  0.6666666666666666\n"
          ]
        }
      ],
      "source": [
        "import pandas as pd\n",
        "from sklearn.preprocessing import LabelEncoder\n",
        "from sklearn.model_selection import train_test_split\n",
        "from sklearn.naive_bayes import GaussianNB\n",
        "from sklearn import tree \n",
        "\n",
        "df = pd.read_csv(\"p-Tennis.csv\")\n",
        "\n",
        "le = LabelEncoder()\n",
        "df[\"Outlook\"] = le.fit_transform(df[\"Outlook\"])\n",
        "df[\"Temperature\"] = le.fit_transform(df[\"Temperature\"])\n",
        "df[\"Humidity\"] = le.fit_transform(df[\"Humidity\"])\n",
        "df[\"Wind\"] = le.fit_transform(df[\"Wind\"])\n",
        "df[\"Decision\"] = le.fit_transform(df[\"Decision\"])\n",
        "\n",
        "X = df.iloc[:,:-1]\n",
        "y = df.iloc[:,-1]\n",
        "\n",
        "X_train,X_test,y_train,y_test = train_test_split(X,y,test_size=0.2)\n",
        "\n",
        "Classifier = GaussianNB().fit(X_train,y_train)\n",
        "\n",
        "from sklearn.metrics import accuracy_score\n",
        "\n",
        "print(\"Accuracy is : \", Classifier.score(X_test,y_test))"
      ]
    }
  ]
}