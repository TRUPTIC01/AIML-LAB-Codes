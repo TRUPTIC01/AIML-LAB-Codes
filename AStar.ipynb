{
  "nbformat": 4,
  "nbformat_minor": 0,
  "metadata": {
    "colab": {
      "provenance": [],
      "authorship_tag": "ABX9TyOvciScfuh7J7N+OgbHTHN+",
      "include_colab_link": true
    },
    "kernelspec": {
      "name": "python3",
      "display_name": "Python 3"
    },
    "language_info": {
      "name": "python"
    }
  },
  "cells": [
    {
      "cell_type": "markdown",
      "metadata": {
        "id": "view-in-github",
        "colab_type": "text"
      },
      "source": [
        "<a href=\"https://colab.research.google.com/github/TRUPTIC01/AIML-Lab-Codes/blob/main/AStar.ipynb\" target=\"_parent\"><img src=\"https://colab.research.google.com/assets/colab-badge.svg\" alt=\"Open In Colab\"/></a>"
      ]
    },
    {
      "cell_type": "code",
      "execution_count": 17,
      "metadata": {
        "colab": {
          "base_uri": "https://localhost:8080/"
        },
        "id": "vFqTIWOnoNcC",
        "outputId": "8342dc87-7da9-47a9-e489-d19f403ad3f6"
      },
      "outputs": [
        {
          "output_type": "stream",
          "name": "stdout",
          "text": [
            "Path found: ['A', 'B', 'D']\n"
          ]
        },
        {
          "output_type": "execute_result",
          "data": {
            "text/plain": [
              "['A', 'B', 'D']"
            ]
          },
          "metadata": {},
          "execution_count": 17
        }
      ],
      "source": [
        "import numpy as np\n",
        "\n",
        "class Graph:\n",
        "\n",
        "  def __init__(self,list):\n",
        "    self.list =list\n",
        "  \n",
        "  def get_neighbors(self,v):\n",
        "    return self.list[v]\n",
        "  \n",
        "  def h(self,n):\n",
        "    H = {\n",
        "        'A':1,\n",
        "        'B':1,\n",
        "        'C':1,\n",
        "        'D':1,\n",
        "    }\n",
        "    return H[n]\n",
        "\n",
        "  def aStar(self,start,stop):\n",
        "    open_list = set([start])\n",
        "    closed_list = set([])\n",
        "\n",
        "    dist ={}\n",
        "    dist[start] = 0\n",
        "\n",
        "    adj_dist = {}\n",
        "    adj_dist[start] = start\n",
        "\n",
        "    while(len(open_list)>0):\n",
        "      n = None\n",
        "\n",
        "      for i in open_list:\n",
        "        if n == None or dist[i]+self.h(i) < dist[n]+self.h(i):\n",
        "          n = i\n",
        "\n",
        "      if n == None:\n",
        "        print(\"Path doesn't exist\")\n",
        "        return None\n",
        "      \n",
        "      if n==stop:\n",
        "        path=[]\n",
        "\n",
        "        while adj_dist[n]!=n:\n",
        "          path.append(n)\n",
        "          n = adj_dist[n]\n",
        "        \n",
        "        path.append(start)\n",
        "        path.reverse()\n",
        "\n",
        "        print(\"Path found: {}\".format(path))\n",
        "        return path\n",
        "\n",
        "      for (m,weights) in self.get_neighbors(n):\n",
        "        if m not in open_list and m not in closed_list:\n",
        "          open_list.add(m)\n",
        "          adj_dist[m]=n\n",
        "          dist[m] = dist[n]+weights\n",
        "        else:\n",
        "          if dist[m] > dist[n]+weights:\n",
        "            dist[m] = dist[n]+weights\n",
        "            adj_dist[m] = n\n",
        "\n",
        "            if m in closed_list:\n",
        "              closed_list.remove(m)\n",
        "              open_list.add(m)\n",
        "\n",
        "      open_list.remove(n)\n",
        "      closed_list.add(n)\n",
        "    print(\"Path doesn't exist\")\n",
        "    return None\n",
        "\n",
        "nodes ={\n",
        "    'A':[('B',6),('D',12)],\n",
        "    'B':[('C',7),('D',5)],\n",
        "    'C' :[('D',4)],\n",
        "    'D' :[('A',2)],\n",
        "}\n",
        "\n",
        "graph = Graph(nodes)\n",
        "graph.aStar('A','D')\n",
        "\n"
      ]
    }
  ]
}