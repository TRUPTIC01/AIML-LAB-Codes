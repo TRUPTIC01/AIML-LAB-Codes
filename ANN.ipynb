{
  "nbformat": 4,
  "nbformat_minor": 0,
  "metadata": {
    "colab": {
      "provenance": [],
      "authorship_tag": "ABX9TyOJ1/rJkCJF5piZzkSGEywe",
      "include_colab_link": true
    },
    "kernelspec": {
      "name": "python3",
      "display_name": "Python 3"
    },
    "language_info": {
      "name": "python"
    }
  },
  "cells": [
    {
      "cell_type": "markdown",
      "metadata": {
        "id": "view-in-github",
        "colab_type": "text"
      },
      "source": [
        "<a href=\"https://colab.research.google.com/github/TRUPTIC01/AIML-Lab-Codes/blob/main/ANN.ipynb\" target=\"_parent\"><img src=\"https://colab.research.google.com/assets/colab-badge.svg\" alt=\"Open In Colab\"/></a>"
      ]
    },
    {
      "cell_type": "code",
      "execution_count": 7,
      "metadata": {
        "colab": {
          "base_uri": "https://localhost:8080/"
        },
        "id": "yFFe0YUlRf49",
        "outputId": "f6a967d1-82d2-4f25-e120-11140393633b"
      },
      "outputs": [
        {
          "output_type": "stream",
          "name": "stdout",
          "text": [
            "Input: [[0.33333333 0.33333333]\n",
            " [0.16666667 0.55555556]\n",
            " [1.         1.        ]]\n",
            "Actual Output: [[0.87]\n",
            " [0.96]\n",
            " [0.83]]\n",
            "Predicted Output: [[0.17093907]\n",
            " [0.16945997]\n",
            " [0.14635322]]\n"
          ]
        }
      ],
      "source": [
        "import numpy as np\n",
        "\n",
        "x = np.array(([2,3],[1,5],[6,9]),dtype = float)\n",
        "y = np.array(([87],[96],[83]),dtype = float)\n",
        "x = x/np.amax(x,axis=0)\n",
        "y/=100\n",
        "\n",
        "iterations =1000\n",
        "\n",
        "weight_hidden = np.random.uniform(size=(2,3))\n",
        "bias_hidden = np.random.uniform(size=(1,3))\n",
        "\n",
        "weight_output = np.random.uniform(size=(3,1))\n",
        "bias_output = np.random.uniform(size=(1,1))\n",
        "\n",
        "\n",
        "def sigmoid(x):\n",
        "  return 1/(1+np.exp(-x))\n",
        "\n",
        "def der_sigmoid(x):\n",
        "  return x*(1-x)\n",
        "\n",
        "for i in range(iterations):\n",
        "  hidden_activation = sigmoid(np.dot(x,weight_hidden)+bias_hidden)\n",
        "  output = der_sigmoid(sigmoid(np.dot(hidden_activation,weight_output)+bias_output))\n",
        "\n",
        "  first = y - output\n",
        "  output_gradient = der_sigmoid(output)\n",
        "  d_output = der_sigmoid(output)\n",
        "  hidden = d_output.dot(weight_output.T)\n",
        "  hidden_gradient = der_sigmoid(sigmoid(np.dot(x,weight_hidden)+bias_hidden))\n",
        "  d_hidden = hidden*hidden_gradient\n",
        "\n",
        "print(\"Input: {}\".format(str(x)))\n",
        "print(\"Actual Output: {}\".format(str(y)))\n",
        "print(\"Predicted Output: {}\".format(output))\n"
      ]
    }
  ]
}